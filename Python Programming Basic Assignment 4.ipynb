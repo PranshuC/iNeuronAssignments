{
 "cells": [
  {
   "cell_type": "code",
   "execution_count": 3,
   "metadata": {},
   "outputs": [
    {
     "name": "stdout",
     "output_type": "stream",
     "text": [
      "Provide a number: 6\n",
      "Factorial of 6 is 720\n"
     ]
    }
   ],
   "source": [
    "#Find the Factorial of a Number?\n",
    "num = input(\"Provide a number: \")\n",
    "try:\n",
    "    num = int(num)\n",
    "    if num>0:\n",
    "        fact = 1\n",
    "        for i in range(1,num+1):\n",
    "            fact *= i\n",
    "        print(\"Factorial of {} is {}\".format(num,fact))\n",
    "    else :\n",
    "        print(\"Factorial cannot be calculated!\")\n",
    "except ValueError:\n",
    "    print(\"Factorial cannot be calculated!\")"
   ]
  },
  {
   "cell_type": "code",
   "execution_count": 5,
   "metadata": {},
   "outputs": [
    {
     "name": "stdout",
     "output_type": "stream",
     "text": [
      "Provide a number: 9\n",
      "9 x 1 = 9\n",
      "9 x 2 = 18\n",
      "9 x 3 = 27\n",
      "9 x 4 = 36\n",
      "9 x 5 = 45\n",
      "9 x 6 = 54\n",
      "9 x 7 = 63\n",
      "9 x 8 = 72\n",
      "9 x 9 = 81\n",
      "9 x 10 = 90\n"
     ]
    }
   ],
   "source": [
    "#Display the multiplication Table?\n",
    "num = input(\"Provide a number: \")\n",
    "try:\n",
    "    num = int(num)\n",
    "    if num>0:\n",
    "        for i in range(1,11):\n",
    "            print(\"{} x {} = {}\".format(num,i,num*i))\n",
    "    else :\n",
    "        print(\"Multiplication Table cannot be calculated!\")\n",
    "except ValueError:\n",
    "    print(\"Multiplication Table cannot be calculated!\")"
   ]
  },
  {
   "cell_type": "code",
   "execution_count": 14,
   "metadata": {},
   "outputs": [
    {
     "name": "stdout",
     "output_type": "stream",
     "text": [
      "Provide a number: 9\n",
      "1\n",
      "1\n",
      "2\n",
      "3\n",
      "5\n",
      "8\n",
      "13\n",
      "21\n",
      "34\n"
     ]
    }
   ],
   "source": [
    "#Print the Fibonacci sequence?\n",
    "try:\n",
    "    num = int(input(\"Provide a number: \"))\n",
    "    if num>0:\n",
    "        a,b=1,1\n",
    "        for i in range(1,num+1):\n",
    "            print(a)\n",
    "            a,b=b,a+b\n",
    "    else :\n",
    "        print(\"Fibonacci sequence cannot be calculated!\")\n",
    "except ValueError:\n",
    "    print(\"Fibonacci sequence cannot be calculated!\")"
   ]
  },
  {
   "cell_type": "code",
   "execution_count": 22,
   "metadata": {},
   "outputs": [
    {
     "name": "stdout",
     "output_type": "stream",
     "text": [
      "Provide a number: 153\n",
      "153 is an Armstrong Number\n"
     ]
    }
   ],
   "source": [
    "#Check Armstrong Number?\n",
    "try:\n",
    "    num = int(input(\"Provide a number: \"))\n",
    "    if num>0:\n",
    "        add = 0\n",
    "        calc = num\n",
    "        while calc>0:\n",
    "            n = calc%10\n",
    "            add += n**3\n",
    "            calc = int(calc/10)\n",
    "        if num==add:\n",
    "            print(\"{} is an Armstrong Number\".format(num))\n",
    "        else:\n",
    "            print(\"{} is not an Armstrong Number\".format(num))\n",
    "    else :\n",
    "        print(\"Armstrong Number cannot be calculated!\")\n",
    "except ValueError:\n",
    "    print(\"Armstrong Number cannot be calculated!\")"
   ]
  },
  {
   "cell_type": "code",
   "execution_count": 26,
   "metadata": {},
   "outputs": [
    {
     "name": "stdout",
     "output_type": "stream",
     "text": [
      "Provide a number: 1000\n",
      "[1, 153, 370, 371, 407]\n"
     ]
    }
   ],
   "source": [
    "#Find Armstrong Number in an Interval?\n",
    "try:\n",
    "    num = int(input(\"Provide a number: \"))\n",
    "    if num>0:\n",
    "        arm_nums = []\n",
    "        for i in range(1,num+1):\n",
    "            add = 0\n",
    "            calc = i\n",
    "            while calc>0:\n",
    "                n = calc%10\n",
    "                add += n**3\n",
    "                calc = int(calc/10)\n",
    "            if i==add:\n",
    "                arm_nums.append(i)\n",
    "        print(arm_nums)\n",
    "    else :\n",
    "        print(\"Armstrong Numbers cannot be calculated!\")\n",
    "except ValueError:\n",
    "    print(\"Armstrong Numbers cannot be calculated!\")"
   ]
  },
  {
   "cell_type": "code",
   "execution_count": 31,
   "metadata": {},
   "outputs": [
    {
     "name": "stdout",
     "output_type": "stream",
     "text": [
      "Provide a number: 6\n",
      "Sum of Numbers till 6: 21\n"
     ]
    }
   ],
   "source": [
    "#Find the Sum of Natural Numbers?\n",
    "try:\n",
    "    num = int(input(\"Provide a number: \"))\n",
    "    if num>0:\n",
    "        sum_nums = int(num*(num+1)/2)\n",
    "        print(\"Sum of Numbers till {}:\".format(num),sum_nums)\n",
    "    else :\n",
    "        print(\"Sum of Natural Numbers cannot be calculated!\")\n",
    "except ValueError:\n",
    "    print(\"Sum of Natural Numbers cannot be calculated!\")"
   ]
  },
  {
   "cell_type": "code",
   "execution_count": null,
   "metadata": {},
   "outputs": [],
   "source": []
  }
 ],
 "metadata": {
  "kernelspec": {
   "display_name": "Python 3",
   "language": "python",
   "name": "python3"
  },
  "language_info": {
   "codemirror_mode": {
    "name": "ipython",
    "version": 3
   },
   "file_extension": ".py",
   "mimetype": "text/x-python",
   "name": "python",
   "nbconvert_exporter": "python",
   "pygments_lexer": "ipython3",
   "version": "3.8.5"
  }
 },
 "nbformat": 4,
 "nbformat_minor": 4
}
